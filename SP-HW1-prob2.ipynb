{
 "cells": [
  {
   "cell_type": "code",
   "execution_count": 1,
   "metadata": {},
   "outputs": [],
   "source": [
    "import numpy as np\n",
    "import random\n",
    "\n",
    "N=12\n",
    "K1=1\n",
    "K2=0.1\n",
    "\n",
    "def Delta (a,b): #Kronecker delta\n",
    "    \n",
    "    if a == b:\n",
    "        \n",
    "        d = 1\n",
    "        \n",
    "    if a != b:\n",
    "        \n",
    "        d = 0\n",
    "        \n",
    "    return d\n",
    "\n",
    "\n",
    "def Energy (State):\n",
    "    \n",
    "    E = 0\n",
    "    \n",
    "    for i in range (N):\n",
    "        \n",
    "        E += -K1 * Delta(State[i],State[(i+1)%N])-K2 * Delta(State[i],State[(i+2)%N])\n",
    "            \n",
    "    return E\n",
    "\n",
    "def Z ( T ):\n",
    "    \n",
    "    Z = 0\n",
    "    \n",
    "    for i in range (3**N): \n",
    "        \n",
    "        s = np.base_repr(i, base=3, padding=N)[-N:] #N-elem string containing 0,1 or 2 \n",
    "\n",
    "        State = list(int(d) for d in s) #a list made of this string\n",
    "        \n",
    "        Z += np.exp( - Energy(State) / T )\n",
    "        \n",
    "    return Z    "
   ]
  },
  {
   "cell_type": "code",
   "execution_count": 3,
   "metadata": {},
   "outputs": [
    {
     "data": {
      "text/plain": [
       "4.9293000322255631"
      ]
     },
     "execution_count": 3,
     "metadata": {},
     "output_type": "execute_result"
    }
   ],
   "source": [
    "Z(1)**(1/N) #That was our answer for lambda_max!"
   ]
  }
 ],
 "metadata": {
  "kernelspec": {
   "display_name": "Python 3",
   "language": "python",
   "name": "python3"
  },
  "language_info": {
   "codemirror_mode": {
    "name": "ipython",
    "version": 3
   },
   "file_extension": ".py",
   "mimetype": "text/x-python",
   "name": "python",
   "nbconvert_exporter": "python",
   "pygments_lexer": "ipython3",
   "version": "3.6.5"
  }
 },
 "nbformat": 4,
 "nbformat_minor": 2
}
